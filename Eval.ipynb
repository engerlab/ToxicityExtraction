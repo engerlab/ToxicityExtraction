{
 "cells": [
  {
   "cell_type": "code",
   "execution_count": 3,
   "id": "6932ea6b-dc98-424f-9ec2-c6657d463a3e",
   "metadata": {},
   "outputs": [
    {
     "name": "stdout",
     "output_type": "stream",
     "text": [
      "Strict Measures: {'precision': 0.6666666666666666, 'recall': 0.6666666666666666, 'f1': 0.6666666666666666}\n",
      "Overlapping Measures: {'precision': 1.0, 'recall': 1.0, 'f1': 1.0}\n"
     ]
    }
   ],
   "source": [
    "def evaluate_ner(gold_spans, predicted_spans):\n",
    "    \"\"\"\n",
    "    Evaluate NER predictions using strict and overlapping measures.\n",
    "\n",
    "    Args:\n",
    "        gold_spans (list of tuples): Gold standard spans, each represented as (start, end).\n",
    "        predicted_spans (list of tuples): Predicted spans, each represented as (start, end).\n",
    "\n",
    "    Returns:\n",
    "        dict: A dictionary containing precision, recall, and F1 for strict and overlapping measures.\n",
    "    \"\"\"\n",
    "    def overlap(span1, span2):\n",
    "        \"\"\"Check if two spans overlap.\"\"\"\n",
    "        return max(span1[0], span2[0]) < min(span1[1], span2[1])\n",
    "\n",
    "    # Strict measure\n",
    "    strict_matches = set(gold_spans) & set(predicted_spans)\n",
    "\n",
    "    # Overlapping measure\n",
    "    overlapping_matches = {\n",
    "        pred for pred in predicted_spans\n",
    "        for gold in gold_spans\n",
    "        if overlap(pred, gold)\n",
    "    }\n",
    "\n",
    "    def calculate_metrics(matches, total_gold, total_pred):\n",
    "        \"\"\"Calculate precision, recall, and F1 score.\"\"\"\n",
    "        precision = len(matches) / total_pred if total_pred > 0 else 0\n",
    "        recall = len(matches) / total_gold if total_gold > 0 else 0\n",
    "        f1 = 2 * precision * recall / (precision + recall) if precision + recall > 0 else 0\n",
    "        return precision, recall, f1\n",
    "\n",
    "    # Calculate metrics for strict and overlapping measures\n",
    "    strict_metrics = calculate_metrics(strict_matches, len(gold_spans), len(predicted_spans))\n",
    "    overlapping_metrics = calculate_metrics(overlapping_matches, len(gold_spans), len(predicted_spans))\n",
    "\n",
    "    return {\n",
    "        \"strict\": {\"precision\": strict_metrics[0], \"recall\": strict_metrics[1], \"f1\": strict_metrics[2]},\n",
    "        \"overlapping\": {\"precision\": overlapping_metrics[0], \"recall\": overlapping_metrics[1], \"f1\": overlapping_metrics[2]},\n",
    "    }\n",
    "\n",
    "# Example usage\n",
    "gold_spans = [(0, 5), (10, 15), (20, 25)]  # Gold standard spans\n",
    "predicted_spans = [(0, 5), (10, 15), (20, 23)]  # Predicted spans\n",
    "\n",
    "results = evaluate_ner(gold_spans, predicted_spans)\n",
    "print(\"Strict Measures:\", results[\"strict\"])\n",
    "print(\"Overlapping Measures:\", results[\"overlapping\"])\n"
   ]
  }
 ],
 "metadata": {
  "kernelspec": {
   "display_name": "Python 3 (ipykernel)",
   "language": "python",
   "name": "python3"
  },
  "language_info": {
   "codemirror_mode": {
    "name": "ipython",
    "version": 3
   },
   "file_extension": ".py",
   "mimetype": "text/x-python",
   "name": "python",
   "nbconvert_exporter": "python",
   "pygments_lexer": "ipython3",
   "version": "3.12.7"
  }
 },
 "nbformat": 4,
 "nbformat_minor": 5
}
