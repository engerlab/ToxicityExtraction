{
 "cells": [
  {
   "cell_type": "code",
   "execution_count": null,
   "id": "bfd15020-be08-4807-bf39-4443ed9dbab2",
   "metadata": {
    "ExecuteTime": {
     "end_time": "2024-12-08T16:43:12.469008Z",
     "start_time": "2024-12-08T16:43:10.965774Z"
    }
   },
   "outputs": [],
   "source": [
    "import os\n",
    "from utils import Sample, chunk_spans, evaluate\n",
    "import torch\n",
    "import torch.nn as nn\n",
    "from torch.optim import Adam\n",
    "from transformers import AutoModel, AutoTokenizer, AutoConfig\n",
    "\n",
    "import numpy as np\n",
    "\n",
    "def get_files(directory,ext):\n",
    "    doc_files = []\n",
    "    for root, dirs, files in os.walk(directory):\n",
    "        for file in files:\n",
    "            if file.endswith(ext):\n",
    "                doc_files.append(os.path.join(root, file))\n",
    "    return doc_files\n",
    "\n",
    "all_txt=get_files('SampleData','.txt')\n",
    "\n",
    "\n",
    "idx_to_tag = {'O': 0, 'B-Tox': 1, 'I-Tox': 2}\n",
    "\n",
    "samples = list()\n",
    "\n",
    "\n",
    "lm_version='bert-base-cased'\n",
    "\n",
    "tokenizer=AutoTokenizer.from_pretrained(lm_version)\n",
    "\n",
    "for file in all_txt:\n",
    "    text = open(file, 'r').read()\n",
    "\n",
    "    tokenizer_out = tokenizer(text, return_offsets_mapping=True, add_special_tokens=False)\n",
    "\n",
    "    new_sample = Sample(os.path.basename(file), text, tokenizer_out['input_ids'], tokenizer_out['offset_mapping'],\n",
    "                        tokenizer.tokenize(text))\n",
    "\n",
    "    annotation_file = open(file.replace('.txt', '.ann'), 'r')\n",
    "\n",
    "    annotation_concept_map = {}\n",
    "    for line in annotation_file:\n",
    "        line = line.split('\\n')[0].split('\\t')\n",
    "        if line[0][0] == 'T':\n",
    "            type = line[1].split(' ')[0]\n",
    "            id = line[0]\n",
    "            if type == 'SideEffect':\n",
    "                span = (int(line[1].split(' ')[1]), int(line[1].split(' ')[-1]))\n",
    "                new_sample.add_anno(id, 'SideEffect', span)\n",
    "        else:\n",
    "            att_id = line[0]\n",
    "            span_id = line[1].split(' ')[1]\n",
    "            cui = line[1].split(' ')[2]\n",
    "            new_sample.spans[span_id][2] = cui\n",
    "\n",
    "    new_sample.add_labels()\n",
    "\n",
    "    samples.append(new_sample)"
   ]
  },
  {
   "cell_type": "code",
   "execution_count": null,
   "id": "57445934-5861-48c9-8ff2-3547ad813e96",
   "metadata": {
    "ExecuteTime": {
     "end_time": "2024-12-08T16:43:16.655995Z",
     "start_time": "2024-12-08T16:43:16.652202Z"
    }
   },
   "outputs": [],
   "source": [
    "class NER(torch.nn.Module):\n",
    "    def __init__(self,language_model):\n",
    "        super(NER, self).__init__()\n",
    "        self.config = AutoConfig.from_pretrained(language_model)\n",
    "        self.lm=AutoModel.from_pretrained(language_model)\n",
    "        self.num_classes = 3\n",
    "        self.projection=nn.Linear(self.config.hidden_size,self.num_classes)\n",
    "\n",
    "    def forward(self,input_ids):\n",
    "        hiddens=self.lm(input_ids)\n",
    "        return self.projection(hiddens['last_hidden_state']).squeeze()"
   ]
  },
  {
   "cell_type": "code",
   "execution_count": null,
   "id": "916f2e1ca465c34b",
   "metadata": {
    "ExecuteTime": {
     "end_time": "2024-12-08T16:43:44.240778Z",
     "start_time": "2024-12-08T16:43:24.871736Z"
    }
   },
   "outputs": [],
   "source": [
    "device = 'cuda' if torch.cuda.is_available() else 'cpu'\n",
    "\n",
    "model=NER(lm_version).to(device)\n",
    "optimizer=Adam(model.parameters(),lr=0.00001)\n",
    "loss_function=nn.CrossEntropyLoss()\n",
    "\n",
    "\n",
    "n_epoch=20\n",
    "\n",
    "for epoch in range(n_epoch):\n",
    "    all_loss=list()\n",
    "    for sample in samples:\n",
    "        model.zero_grad()\n",
    "        max_len=model.config.max_position_embeddings\n",
    "\n",
    "        token_ids=torch.tensor([sample.token_ids[0:max_len]],dtype=torch.long).to(device)\n",
    "        pred=model(token_ids)\n",
    "        target=torch.tensor(sample.labels[0:max_len],dtype=torch.long).to(device)\n",
    "        loss=loss_function(pred,target)\n",
    "        all_loss.append(loss.detach().cpu().item())\n",
    "        loss.backward()\n",
    "        optimizer.step()\n",
    "    print('Average loss=',np.mean(all_loss))\n"
   ]
  },
  {
   "cell_type": "code",
   "execution_count": null,
   "id": "29896374cc93a162",
   "metadata": {
    "ExecuteTime": {
     "end_time": "2024-12-08T03:08:52.330794Z",
     "start_time": "2024-12-08T03:08:52.302027Z"
    }
   },
   "outputs": [],
   "source": [
    "with torch.no_grad():\n",
    "    model.eval()\n",
    "    for sample in samples:\n",
    "        max_len = model.config.max_position_embeddings\n",
    "        token_ids = torch.tensor([sample.token_ids[0:max_len]], dtype=torch.long).to(device)\n",
    "        pred = model(token_ids)\n",
    "\n",
    "        pred = list(torch.argmax(pred, dim=1).detach().cpu().numpy())\n",
    "\n",
    "        diff = max(len(sample.token_ids) - max_len, 0)\n",
    "        pred = pred + [0] * diff\n",
    "\n",
    "        pred = [(sample.token_spans[span[0]][0], sample.token_spans[span[1]][1], 'SideEffect') for span in\n",
    "                chunk_spans(pred)]\n",
    "        gold = [(sample.spans[key][1][0], sample.spans[key][1][1], sample.spans[key][0]) for key in\n",
    "                [key for key in sample.spans]]\n",
    "\n",
    "        if len(pred) == 0 and len(gold) == 0:\n",
    "            continue\n",
    "\n",
    "        result=evaluate(gold,pred)\n",
    "        print(result)\n"
   ]
  },
  {
   "cell_type": "code",
   "execution_count": null,
   "id": "af22159d-26b7-461a-b3d2-c595e8c2d354",
   "metadata": {},
   "outputs": [],
   "source": []
  }
 ],
 "metadata": {
  "kernelspec": {
   "display_name": "Python 3 (ipykernel)",
   "language": "python",
   "name": "python3"
  },
  "language_info": {
   "codemirror_mode": {
    "name": "ipython",
    "version": 3
   },
   "file_extension": ".py",
   "mimetype": "text/x-python",
   "name": "python",
   "nbconvert_exporter": "python",
   "pygments_lexer": "ipython3",
   "version": "3.12.7"
  }
 },
 "nbformat": 4,
 "nbformat_minor": 5
}
